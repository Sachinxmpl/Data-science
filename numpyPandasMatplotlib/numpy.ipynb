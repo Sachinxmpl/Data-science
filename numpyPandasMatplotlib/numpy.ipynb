{
 "cells": [
  {
   "cell_type": "code",
   "execution_count": 1,
   "metadata": {},
   "outputs": [
    {
     "name": "stdout",
     "output_type": "stream",
     "text": [
      "[1 2 3 4]\n"
     ]
    }
   ],
   "source": [
    "import numpy as np \n",
    "np.__version__\n",
    "\n",
    "arr = np.array([1,2,3,4])\n",
    "print(arr)\n",
    "\n"
   ]
  },
  {
   "cell_type": "code",
   "execution_count": 3,
   "metadata": {},
   "outputs": [
    {
     "name": "stdout",
     "output_type": "stream",
     "text": [
      "[[1 2 3]\n",
      " [0 7 5]]\n"
     ]
    }
   ],
   "source": [
    "import numpy as np\n",
    "brr = np.array([[1,2 , 3],[0,7 , 5 ]])\n",
    "type(brr)\n",
    "print(brr)"
   ]
  },
  {
   "cell_type": "code",
   "execution_count": 11,
   "metadata": {},
   "outputs": [
    {
     "name": "stdout",
     "output_type": "stream",
     "text": [
      "[[0. 0. 0.]\n",
      " [0. 0. 0.]]\n",
      "[[1. 1. 1. 1.]\n",
      " [1. 1. 1. 1.]]\n",
      "[[10 10 10 10 10]\n",
      " [10 10 10 10 10]]\n",
      "[0 1 2 3 4 5 6 7 8 9]\n",
      "[10 11 12 13 14 15 16 17 18 19]\n",
      "[30 35 40 45 50 55 60 65 70 75 80 85 90 95]\n"
     ]
    }
   ],
   "source": [
    "import numpy as np \n",
    "n1 = np.zeros((2,3))\n",
    "print(n1)\n",
    "\n",
    "n2 = np.ones((2,4))\n",
    "print(n2)\n",
    "\n",
    "# 2 * 5 array of 10 \n",
    "n1 = np.full((2,5),10)\n",
    "print(n1)\n",
    "\n",
    "# n1 = array from 0 to 9\n",
    "n1 = np.arange(10)\n",
    "print(n1)\n",
    "\n",
    "n2 = np.arange(10,20)\n",
    "print(n2)\n",
    "\n",
    "n3 = np.arange(30,100,5)\n",
    "print(n3)"
   ]
  },
  {
   "cell_type": "code",
   "execution_count": 18,
   "metadata": {},
   "outputs": [
    {
     "name": "stdout",
     "output_type": "stream",
     "text": [
      "[19 58 23 28 16]\n"
     ]
    },
    {
     "data": {
      "text/plain": [
       "array([[9, 5, 3],\n",
       "       [3, 5, 6],\n",
       "       [3, 1, 7]], dtype=int32)"
      ]
     },
     "execution_count": 18,
     "metadata": {},
     "output_type": "execute_result"
    }
   ],
   "source": [
    "import numpy as np\n",
    "\n",
    "# random 5 int from between 1 to 100\n",
    "n1 = np.random.randint(1 , 100 , 5)\n",
    "print(n1)\n",
    "\n",
    "# 3 * 3 matrxi of 3 * 3 int from between 0 to 10\n",
    "n2 = np.random.randint(0 , 10 , (3,3))\n",
    "n2"
   ]
  },
  {
   "cell_type": "code",
   "execution_count": 21,
   "metadata": {},
   "outputs": [
    {
     "name": "stdout",
     "output_type": "stream",
     "text": [
      "(3, 2)\n"
     ]
    },
    {
     "data": {
      "text/plain": [
       "array([[1, 2, 3],\n",
       "       [4, 3, 4]])"
      ]
     },
     "execution_count": 21,
     "metadata": {},
     "output_type": "execute_result"
    }
   ],
   "source": [
    "import numpy as np\n",
    "\n",
    "n1 = np.array([[1 , 2 ] , [ 3 , 4 ] , [ 3 , 4 ]])\n",
    "print(n1.shape)\n",
    "\n",
    "n1.shape = (2,3)\n",
    "n1"
   ]
  },
  {
   "cell_type": "code",
   "execution_count": 24,
   "metadata": {},
   "outputs": [
    {
     "name": "stdout",
     "output_type": "stream",
     "text": [
      "[[10 20 30]\n",
      " [ 4  5  6]]\n",
      "[10 20 30  4  5  6]\n",
      "[[10  4]\n",
      " [20  5]\n",
      " [30  6]]\n"
     ]
    }
   ],
   "source": [
    "import numpy as np\n",
    "\n",
    "n1 = np.array([10,20,30])\n",
    "n2 = np.array([4,5,6])\n",
    "\n",
    "print(np.vstack((n1,n2)))\n",
    "\n",
    "print(np.hstack((n1,n2)))\n",
    "\n",
    "print(np.column_stack((n1,n2)))"
   ]
  },
  {
   "cell_type": "code",
   "execution_count": 30,
   "metadata": {},
   "outputs": [
    {
     "name": "stdout",
     "output_type": "stream",
     "text": [
      "[10 30]\n",
      "[20]\n",
      "[60]\n"
     ]
    }
   ],
   "source": [
    "import numpy as np\n",
    "\n",
    "n1 = np.array([10,20,30])\n",
    "n2 = np.array([30,10,60])\n",
    "\n",
    "\n",
    "print(np.intersect1d(n1,n2))\n",
    "\n",
    "print(np.setdiff1d(n1,n2))\n",
    "print(np.setdiff1d(n2,n1))"
   ]
  },
  {
   "cell_type": "code",
   "execution_count": 33,
   "metadata": {},
   "outputs": [
    {
     "name": "stdout",
     "output_type": "stream",
     "text": [
      "4\n",
      "int64\n"
     ]
    }
   ],
   "source": [
    "import numpy as np\n",
    "\n",
    "arr = np.array([[10,20],[30,40]])\n",
    "arr.shape\n",
    "print(arr.size)\n",
    "print(arr.dtype)\n"
   ]
  },
  {
   "cell_type": "code",
   "execution_count": 38,
   "metadata": {},
   "outputs": [
    {
     "name": "stdout",
     "output_type": "stream",
     "text": [
      "60\n",
      "160\n",
      "[40 30 90]\n",
      "[ 60 100]\n"
     ]
    }
   ],
   "source": [
    "import numpy as np\n",
    "\n",
    "n1 = np.array([10,20,30])\n",
    "n2 = np.array([30,10,60])\n",
    "\n",
    "sum = np.sum(n1)\n",
    "print(sum)\n",
    "\n",
    "sumAllElements = np.sum([n1,n2])\n",
    "print(sumAllElements)\n",
    "\n",
    "print(np.sum([n1,n2] , axis= 0))\n",
    "print(np.sum([n1,n2] , axis= 1))"
   ]
  },
  {
   "cell_type": "code",
   "execution_count": 42,
   "metadata": {},
   "outputs": [
    {
     "name": "stdout",
     "output_type": "stream",
     "text": [
      "[[11 21]\n",
      " [31 41]]\n",
      "[[20 40]\n",
      " [60 80]]\n",
      "[[ 5. 10.]\n",
      " [15. 20.]]\n"
     ]
    }
   ],
   "source": [
    "import numpy as np\n",
    "\n",
    "arr = np.array([[10,20],[30,40]])\n",
    "print(arr + 1)\n",
    "print(arr * 2)\n",
    "\n",
    "print(arr/2)"
   ]
  },
  {
   "cell_type": "code",
   "execution_count": 46,
   "metadata": {},
   "outputs": [
    {
     "name": "stdout",
     "output_type": "stream",
     "text": [
      "[10 12 14 16 18]\n",
      "14.0\n",
      "2.8284271247461903\n",
      "14.0\n"
     ]
    }
   ],
   "source": [
    "import numpy as np\n",
    "\n",
    "# some numpy functions \n",
    "arr = np.arange(10,20,2)\n",
    "print(arr)\n",
    "\n",
    "print(np.mean(arr))\n",
    "print(np.std(arr))\n",
    "print(np.median(arr))"
   ]
  },
  {
   "cell_type": "code",
   "execution_count": 3,
   "metadata": {},
   "outputs": [
    {
     "name": "stdout",
     "output_type": "stream",
     "text": [
      "[10 20 30]\n"
     ]
    }
   ],
   "source": [
    "import numpy as np\n",
    "\n",
    "# saving and loading \n",
    "\n",
    "n1 = np.array([10,20,30])\n",
    "np.save('sachin' , n1)\n",
    "\n",
    "newNe = np.load('sachin.npy')\n",
    "print(newNe)"
   ]
  }
 ],
 "metadata": {
  "kernelspec": {
   "display_name": "base",
   "language": "python",
   "name": "python3"
  },
  "language_info": {
   "codemirror_mode": {
    "name": "ipython",
    "version": 3
   },
   "file_extension": ".py",
   "mimetype": "text/x-python",
   "name": "python",
   "nbconvert_exporter": "python",
   "pygments_lexer": "ipython3",
   "version": "3.12.7"
  }
 },
 "nbformat": 4,
 "nbformat_minor": 2
}
