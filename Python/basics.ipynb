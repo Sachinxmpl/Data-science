{
 "cells": [
  {
   "cell_type": "code",
   "execution_count": 3,
   "metadata": {},
   "outputs": [
    {
     "data": {
      "text/plain": [
       "int"
      ]
     },
     "execution_count": 3,
     "metadata": {},
     "output_type": "execute_result"
    }
   ],
   "source": [
    "print(\"\")\n",
    "\n",
    "a1 = 3 + 4J\n",
    "type(a1)\n",
    "\n",
    "b = 10 \n",
    "type(b)\n"
   ]
  },
  {
   "cell_type": "code",
   "execution_count": 2,
   "metadata": {},
   "outputs": [
    {
     "name": "stdout",
     "output_type": "stream",
     "text": [
      "<class 'str'>\n",
      "<class 'bool'>\n"
     ]
    }
   ],
   "source": [
    "a = \"sachin\"\n",
    "print(type(a)) ;\n",
    "\n",
    "\n",
    "b = True ; \n",
    "print(type(b))\n",
    "\n"
   ]
  },
  {
   "cell_type": "code",
   "execution_count": 13,
   "metadata": {},
   "outputs": [
    {
     "name": "stdout",
     "output_type": "stream",
     "text": [
      "100\n",
      "2.5\n",
      "2\n",
      "True\n",
      "0\n",
      "or\n",
      "And\n"
     ]
    }
   ],
   "source": [
    "#Arithmetic Operators \n",
    "a = 10 \n",
    "b = 2 \n",
    "a,b\n",
    "print(a**b)\n",
    "\n",
    "print(5/2)\n",
    "print(5//2)\n",
    "\n",
    "print(a>b)\n",
    "\n",
    "print(a%b)\n",
    "\n",
    "if True | False : \n",
    "        print(\"or\")\n",
    "if True & True : \n",
    "        print(\"And\")"
   ]
  },
  {
   "cell_type": "code",
   "execution_count": 26,
   "metadata": {},
   "outputs": [
    {
     "name": "stdout",
     "output_type": "stream",
     "text": [
      " \n",
      "        a lots of line \n",
      "\n",
      "M\n",
      "n\n",
      "me is\n",
      "17\n",
      "my name is sachin\n",
      "MY NAME IS SACHIN\n",
      "My name is Sachin\n",
      "My name is kohn doe\n",
      "My name is john doe\n",
      "4\n",
      "8\n"
     ]
    }
   ],
   "source": [
    "str1 = 'This is my string'\n",
    "str2 = \"This is my second string\"\n",
    "\n",
    "str3 = \"\"\" \n",
    "        a lots of line \n",
    "\"\"\"\n",
    "print(str3)\n",
    "\n",
    "my_name = \"My name is Sachin\"\n",
    "print(my_name[0]) \n",
    "print(my_name[-1])\n",
    "print(my_name[5 : 10])\n",
    "print(len(my_name))\n",
    "\n",
    "print(my_name.lower())\n",
    "print(my_name.upper())\n",
    "print(my_name)\n",
    "\n",
    "\n",
    "sample = \"My name is john doe\"\n",
    "\n",
    "replaced = sample.replace('j', 'k')\n",
    "print(replaced)\n",
    "print(sample)\n",
    "print(sample.count(\" \"))\n",
    "\n",
    "\n",
    "s1 = \"This is sparta\"\n",
    "print(s1.find(\"sparta\"))\n",
    "\n"
   ]
  },
  {
   "cell_type": "code",
   "execution_count": 27,
   "metadata": {},
   "outputs": [
    {
     "data": {
      "text/plain": [
       "['This', 'is', 'sparta']"
      ]
     },
     "execution_count": 27,
     "metadata": {},
     "output_type": "execute_result"
    }
   ],
   "source": [
    "s1.split(\" \")"
   ]
  },
  {
   "cell_type": "code",
   "execution_count": 37,
   "metadata": {},
   "outputs": [
    {
     "name": "stdout",
     "output_type": "stream",
     "text": [
      "(1, 'a', True)\n",
      "<class 'tuple'>\n",
      "1\n",
      "3\n",
      "('a', True)\n",
      "(1, 2, 3, 4, 5, 6)\n",
      "(1, 2, 3, 1, 2, 3, 1, 2, 3)\n",
      "(1, 2, 3)\n"
     ]
    }
   ],
   "source": [
    "#Tuple\n",
    "#Tuple are immutable objects\n",
    "\n",
    "tup1 = (1 , 'a' , True)\n",
    "print(tup1)\n",
    "print(type(tup1))\n",
    "print(tup1[0])\n",
    "print(len(tup1))\n",
    "print(tup1[1:3])\n",
    "\n",
    "\n",
    "# tup1[0] = \"changes\" error\n",
    "\n",
    "x1 = (1,2,3)\n",
    "x2 = (4,5,6)\n",
    "print(x1+x2)\n",
    "\n",
    "print(x1*3)\n",
    "print(x1)\n",
    "\n",
    "y = (1,2,3,4,5)\n",
    "print(min(y))\n",
    "print(max(y))"
   ]
  },
  {
   "cell_type": "code",
   "execution_count": 52,
   "metadata": {},
   "outputs": [
    {
     "name": "stdout",
     "output_type": "stream",
     "text": [
      "[1, 'a', True, 'Random']\n",
      "<class 'list'>\n",
      "4\n",
      "[1, 'a', True, 'Random']\n",
      "[False]\n",
      "new\n",
      "[1, 2, 3, 4, 'sachin', False, True]\n",
      "[True, False, 'sachin', 4, 3, 2, 1]\n",
      "['apple', 'banana', 'gauva', 'mango', 'sparta']\n",
      "['y2', 2, 'y2', 2, 1, 'sachin', 1, 'sachin', 1, 'sachin']\n"
     ]
    }
   ],
   "source": [
    "#lists\n",
    "# mutable objects\n",
    "\n",
    "l1 = [1,'a' , True , \"Random\"]\n",
    "print(l1)\n",
    "print(type(l1))\n",
    "print(len(l1))\n",
    "print(l1[0:] )\n",
    "\n",
    "l1[2] = False\n",
    "print(l1[2:3])\n",
    "\n",
    "\n",
    "temp = [1,2,3,4,\"sachin\",False , True]\n",
    "temp.append(\"new\")\n",
    "print(temp.pop())\n",
    "print(temp)\n",
    "\n",
    "\n",
    "\n",
    "temp.reverse()\n",
    "print(temp)\n",
    "\n",
    "l1 = [\"mango\" , \"banana\" , \"gauva\" , \"apple\"]\n",
    "l1.insert(1 , \"sparta\")\n",
    "l1.sort()\n",
    "print(l1)\n",
    "\n",
    "\n",
    "y1 = [1,\"sachin\"]\n",
    "y2 = [\"y2\" , 2]\n",
    "\n",
    "print(y2*2 + y1*3)\n"
   ]
  },
  {
   "cell_type": "code",
   "execution_count": 59,
   "metadata": {},
   "outputs": [
    {
     "name": "stdout",
     "output_type": "stream",
     "text": [
      "<class 'dict'>\n",
      "Sachin\n",
      "dict_keys(['name', 'age'])\n",
      "dict_values(['Sachin', 30])\n",
      "{'name': 'Sachin', 'age': 30, 'college': 'Pulchowk'}\n",
      "{'Apple': 10, 'Orange': 20, 'Banana': 20, 'Guava': 50}\n",
      "{'Guava': 50}\n"
     ]
    }
   ],
   "source": [
    "#Dictionary key-value\n",
    "# is mutable objects\n",
    "\n",
    "dic = { \"name\": \"Sachin\", \"age\": 30}\n",
    "print(type(dic))\n",
    "print(dic[\"name\"])\n",
    "\n",
    "print(dic.keys())\n",
    "print(dic.values())\n",
    "\n",
    "dic[\"college\"] = \"Pulchowk\"\n",
    "print(dic)\n",
    "\n",
    "\n",
    "fruit1 = { \"Apple\" : 10 , \"Orange\" : 20}\n",
    "fruit2 = { \"Banana\" : 20 , \"Guava\" : 50}\n",
    "\n",
    "fruit1.update(fruit2)\n",
    "print(fruit1)\n",
    "\n",
    "fruit2.pop(\"Banana\")\n",
    "print(fruit2)"
   ]
  },
  {
   "cell_type": "code",
   "execution_count": 71,
   "metadata": {},
   "outputs": [
    {
     "name": "stdout",
     "output_type": "stream",
     "text": [
      "<class 'set'>\n",
      "{1, 'a'}\n",
      "{'hello', 1, 'a'}\n",
      "{1, 'a', 'hi', 'bye', 'hello'}\n",
      "{1, 'hi', 'bye', 'hello'}\n",
      "{1, 2, 3, 'a', 'b', 'c'}\n",
      "{3}\n"
     ]
    }
   ],
   "source": [
    "#set \n",
    "#set is unordered and unindexed collection of elements {}\n",
    "\n",
    "s1 = {1 , \"a\" , True , True}\n",
    "print(type(s1))\n",
    "print(s1)\n",
    "\n",
    "s1.add(\"hello\")\n",
    "print(s1)\n",
    "\n",
    "s1.update([\"hi\",\"bye\"])\n",
    "print(s1)\n",
    "\n",
    "s1.remove(\"a\")\n",
    "print(s1)\n",
    "\n",
    "\n",
    "y1 = {1,2,3}\n",
    "y2 = {\"a\",\"b\",\"c\",3}\n",
    "\n",
    "print(y1.union(y2))\n",
    "print(y1.intersection(y2))\n",
    "\n",
    "\n"
   ]
  },
  {
   "cell_type": "code",
   "execution_count": 85,
   "metadata": {},
   "outputs": [
    {
     "name": "stdout",
     "output_type": "stream",
     "text": [
      "c is the greatest\n",
      "Value is present\n",
      "10\n",
      "12\n",
      "14\n",
      "16\n",
      "18\n",
      "10\n",
      "9\n",
      "8\n",
      "7\n",
      "6\n",
      "5\n",
      "4\n",
      "3\n",
      "2\n",
      "1\n",
      "1\n",
      "2\n",
      "3\n",
      "4\n",
      "5\n",
      "6\n"
     ]
    }
   ],
   "source": [
    "#control statements\n",
    "\n",
    "a = 10 \n",
    "b = 20 \n",
    "c = 30 \n",
    "if (a > b) & (a > c) : \n",
    "        print(\"a is the greatest\")\n",
    "elif (b > a) & (b > c) : \n",
    "        print(\"b is the greatest\")\n",
    "else :\n",
    "        print(\"c is the greatest\")\n",
    "\n",
    "\n",
    "\n",
    "tupl = ('a','b',12)\n",
    "if 'a' in tup1 : \n",
    "        print(\"Value is present\")\n",
    "else : \n",
    "        print(\"Value is not present\")\n",
    "\n",
    "\n",
    "#looping statements \n",
    "for i in range(10 , 20 , 2):\n",
    "            print(i)\n",
    "\n",
    "\n",
    "x = 10 \n",
    "while x > 0 :\n",
    "        print(x)\n",
    "        x = x -1\n",
    "\n",
    "\n",
    "l1 = [1,2,3,4,5,6]\n",
    "i = 0 \n",
    "while i < len(l1) : \n",
    "        print(l1[i])\n",
    "        i = i + 1 "
   ]
  },
  {
   "cell_type": "code",
   "execution_count": 86,
   "metadata": {},
   "outputs": [
    {
     "name": "stdout",
     "output_type": "stream",
     "text": [
      "mango\n",
      "apple\n",
      "orange\n"
     ]
    }
   ],
   "source": [
    "l1 = [\"mango\" , \"apple\" , \"orange\"]\n",
    "for item in l1 : \n",
    "        print(item)"
   ]
  },
  {
   "cell_type": "code",
   "execution_count": 1,
   "metadata": {},
   "outputs": [
    {
     "data": {
      "text/plain": [
       "343"
      ]
     },
     "execution_count": 1,
     "metadata": {},
     "output_type": "execute_result"
    }
   ],
   "source": [
    "g = lambda x : x * x * x \n",
    "g(7)"
   ]
  },
  {
   "cell_type": "code",
   "execution_count": 3,
   "metadata": {},
   "outputs": [
    {
     "name": "stdout",
     "output_type": "stream",
     "text": [
      "The factorial of 5 is 120\n"
     ]
    }
   ],
   "source": [
    "# Functions in Python\n",
    "def factorial(n): \n",
    "    if n == 0 or n == 1:\n",
    "        return 1 \n",
    "    return n * factorial(n - 1)\n",
    "\n",
    "\n",
    "num = int(input(\"Enter a number: \"))\n",
    "print(f\"The factorial of {num} is {factorial(num)}\") \n"
   ]
  },
  {
   "cell_type": "code",
   "execution_count": 2,
   "metadata": {},
   "outputs": [
    {
     "name": "stdout",
     "output_type": "stream",
     "text": [
      "12\n"
     ]
    }
   ],
   "source": [
    "num = int(input(\"Enter a number\"))\n",
    "print(num)"
   ]
  }
 ],
 "metadata": {
  "kernelspec": {
   "display_name": "base",
   "language": "python",
   "name": "python3"
  },
  "language_info": {
   "codemirror_mode": {
    "name": "ipython",
    "version": 3
   },
   "file_extension": ".py",
   "mimetype": "text/x-python",
   "name": "python",
   "nbconvert_exporter": "python",
   "pygments_lexer": "ipython3",
   "version": "3.12.7"
  }
 },
 "nbformat": 4,
 "nbformat_minor": 2
}
